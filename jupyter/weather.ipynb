{
 "cells": [
  {
   "cell_type": "code",
   "execution_count": 1,
   "metadata": {},
   "outputs": [],
   "source": [
    "import requests\n",
    "from datetime import datetime, timedelta"
   ]
  },
  {
   "cell_type": "code",
   "execution_count": 2,
   "metadata": {},
   "outputs": [],
   "source": [
    "serviceKey = \"okj9ZMiQAE5yYjka%2BjQpY4EZIsjaX4gFcxzXIY1W%2B1szoKsTNqH1%2FWOa%2BFQ90f9CthpKtS4%2BmCBU79ZiuPWbVg%3D%3D\""
   ]
  },
  {
   "cell_type": "markdown",
   "metadata": {},
   "source": [
    "# 기상청 API 조회"
   ]
  },
  {
   "cell_type": "markdown",
   "metadata": {},
   "source": [
    "## 1. 초단기실황 (30분 전)"
   ]
  },
  {
   "cell_type": "code",
   "execution_count": 3,
   "metadata": {},
   "outputs": [
    {
     "name": "stdout",
     "output_type": "stream",
     "text": [
      "{'response': {'header': {'resultCode': '00', 'resultMsg': 'NORMAL_SERVICE'}, 'body': {'dataType': 'JSON', 'items': {'item': [{'baseDate': '20200517', 'baseTime': '2000', 'category': 'PTY', 'nx': 61, 'ny': 125, 'obsrValue': '0'}, {'baseDate': '20200517', 'baseTime': '2000', 'category': 'REH', 'nx': 61, 'ny': 125, 'obsrValue': '78'}, {'baseDate': '20200517', 'baseTime': '2000', 'category': 'RN1', 'nx': 61, 'ny': 125, 'obsrValue': '0'}, {'baseDate': '20200517', 'baseTime': '2000', 'category': 'T1H', 'nx': 61, 'ny': 125, 'obsrValue': '20.7'}, {'baseDate': '20200517', 'baseTime': '2000', 'category': 'UUU', 'nx': 61, 'ny': 125, 'obsrValue': '1'}, {'baseDate': '20200517', 'baseTime': '2000', 'category': 'VEC', 'nx': 61, 'ny': 125, 'obsrValue': '326'}, {'baseDate': '20200517', 'baseTime': '2000', 'category': 'VVV', 'nx': 61, 'ny': 125, 'obsrValue': '-1.4'}, {'baseDate': '20200517', 'baseTime': '2000', 'category': 'WSD', 'nx': 61, 'ny': 125, 'obsrValue': '1.8'}]}, 'pageNo': 1, 'numOfRows': 1000, 'totalCount': 8}}}\n"
     ]
    }
   ],
   "source": [
    "target_time = datetime.now() - timedelta(minutes=30)\n",
    "\n",
    "call_back_url = \"http://apis.data.go.kr/1360000/VilageFcstInfoService/getUltraSrtNcst\"\n",
    "request = {\n",
    "    \"serviceKey\" : serviceKey,\n",
    "    \"numOfRows\" : 1000,\n",
    "    \"pageNo\" : 1,\n",
    "    \"dataType\" : \"JSON\",\n",
    "    \"base_date\" : str(target_time.date()).replace(\"-\", \"\"),\n",
    "    \"base_time\" : str(target_time.hour) + \"00\",\n",
    "    \"nx\" : 61,\n",
    "    \"ny\" : 125\n",
    "}\n",
    "\n",
    "url = call_back_url + \"?\" + \"&\".join([\"{}={}\".format(k, v) for k, v in request.items()])\n",
    "res = requests.get(url).json()\n",
    "print(res)"
   ]
  },
  {
   "cell_type": "markdown",
   "metadata": {},
   "source": [
    "## 2. 초단기예보"
   ]
  },
  {
   "cell_type": "code",
   "execution_count": 4,
   "metadata": {},
   "outputs": [],
   "source": [
    "target_time = datetime.now() - timedelta(minutes=30)\n",
    "\n",
    "call_back_url = \"http://apis.data.go.kr/1360000/VilageFcstInfoService/getUltraSrtFcst\"\n",
    "request = {\n",
    "    \"serviceKey\" : serviceKey,\n",
    "    \"numOfRows\" : 1000,\n",
    "    \"pageNo\" : 1,\n",
    "    \"dataType\" : \"JSON\",\n",
    "    \"base_date\" : str(target_time.date()).replace(\"-\", \"\"),\n",
    "    \"base_time\" : str(target_time.hour) + \"00\",\n",
    "    \"nx\" : 61,\n",
    "    \"ny\" : 125\n",
    "}\n",
    "url = call_back_url + \"?\" + \"&\".join([\"{}={}\".format(k, v) for k, v in request.items()])\n",
    "res = requests.get(url).json()\n",
    "# print(res)"
   ]
  },
  {
   "cell_type": "code",
   "execution_count": 5,
   "metadata": {},
   "outputs": [
    {
     "data": {
      "text/plain": [
       "datetime.datetime(2020, 5, 17, 20, 41, 13, 146798)"
      ]
     },
     "execution_count": 5,
     "metadata": {},
     "output_type": "execute_result"
    }
   ],
   "source": [
    "target_time"
   ]
  },
  {
   "cell_type": "code",
   "execution_count": 6,
   "metadata": {},
   "outputs": [
    {
     "data": {
      "text/plain": [
       "{'0000', '2100', '2200', '2300'}"
      ]
     },
     "execution_count": 6,
     "metadata": {},
     "output_type": "execute_result"
    }
   ],
   "source": [
    "{x[\"fcstTime\"] for x in res[\"response\"][\"body\"][\"items\"][\"item\"]}"
   ]
  },
  {
   "cell_type": "code",
   "execution_count": null,
   "metadata": {},
   "outputs": [],
   "source": []
  }
 ],
 "metadata": {
  "kernelspec": {
   "display_name": "Python 3",
   "language": "python",
   "name": "python3"
  },
  "language_info": {
   "codemirror_mode": {
    "name": "ipython",
    "version": 3
   },
   "file_extension": ".py",
   "mimetype": "text/x-python",
   "name": "python",
   "nbconvert_exporter": "python",
   "pygments_lexer": "ipython3",
   "version": "3.8.2"
  }
 },
 "nbformat": 4,
 "nbformat_minor": 4
}
